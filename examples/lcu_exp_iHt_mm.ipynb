{
 "cells": [
  {
   "cell_type": "code",
   "execution_count": 1,
   "id": "4101d7e1",
   "metadata": {},
   "outputs": [],
   "source": [
    "from guppylang.std.builtins import comptime\n",
    "from guppylang.std.quantum import qubit, measure_array\n",
    "from hugr.qsystem.result import QsysResult\n",
    "from guppylang.std.builtins import result, array, exit\n",
    "from guppylang import guppy\n",
    "from selene_sim import build, Quest, MetricStore\n",
    "\n",
    "from trunctaylor.qtmlib.circuits.lcu import LCUMultiplexorBox\n",
    "from pytket.passes import AutoRebase\n",
    "from pytket import OpType\n",
    "from pytket.passes import DecomposeBoxes\n",
    "from pytket.circuit import StatePreparationBox\n",
    "\n",
    "from collections import defaultdict\n",
    "\n",
    "import pandas as pd\n",
    "import numpy as np\n",
    "import scipy.special as sp\n",
    "\n",
    "from trunctaylor.operators import ising_model"
   ]
  },
  {
   "cell_type": "markdown",
   "id": "736b6205",
   "metadata": {},
   "source": [
    "### 1D Ising model Hamiltonian"
   ]
  },
  {
   "cell_type": "code",
   "execution_count": 2,
   "id": "4d142f72",
   "metadata": {},
   "outputs": [],
   "source": [
    "n_state = 4\n",
    "H = ising_model(n_qubits=n_state, j=1.0, h=0.5)"
   ]
  },
  {
   "cell_type": "markdown",
   "id": "1af44d7d",
   "metadata": {},
   "source": [
    "We construct the LCU for\n",
    "$\\widetilde{H}= \\frac{-i}{\\left\\|\\alpha\\right\\|_{1}}\\sum_{\\ell}^{L}\\alpha_\\ell H_\\ell$\n",
    "using multiplexor gate synthesis. We then construct a controlled-$\\widetilde{H}$ for the Select oracle of the time evolution operator."
   ]
  },
  {
   "cell_type": "code",
   "execution_count": 3,
   "id": "d20beb9a",
   "metadata": {},
   "outputs": [],
   "source": [
    "H_lcu = LCUMultiplexorBox(H, n_state)\n",
    "H_norm = H_lcu.l1_norm\n",
    "H_lcu = LCUMultiplexorBox((-1j / H_norm) * H, n_state)\n",
    "n_prep = H_lcu.n_prepare_qubits\n",
    "\n",
    "controlled_lcu = H_lcu.qcontrol(1)\n",
    "circ = controlled_lcu.get_circuit()\n",
    "DecomposeBoxes().apply(circ)\n",
    "rebase = AutoRebase({OpType.CX, OpType.Rz, OpType.H, OpType.CCX})\n",
    "rebase.apply(circ)\n",
    "qlibs_controlled_lcu = guppy.load_pytket(\"qlibs_controlled_lcu\", circ, use_arrays=True)\n",
    "\n",
    "\n",
    "@guppy.comptime\n",
    "def ctrl_lcu(\n",
    "    control: qubit,\n",
    "    prep: array[qubit, comptime(n_prep)],\n",
    "    state: array[qubit, comptime(n_state)],\n",
    ") -> None:\n",
    "    return qlibs_controlled_lcu([control], prep, state)"
   ]
  },
  {
   "cell_type": "markdown",
   "id": "02949dd5",
   "metadata": {
    "vscode": {
     "languageId": "latex"
    }
   },
   "source": [
    "Prepare the  Taylor expansion coefficients \n",
    "$\\widetilde{\\beta}_k = \\frac{(\\tau \\left\\|\\alpha\\right\\|_{1})^k}{k!}$ for $\\sqrt{\\frac{\\widetilde{\\beta}_k}{\\left\\|\\widetilde{\\beta}\\right\\|_1}}$.\n",
    "\n",
    "We set $K=7$, $\\tau=0.05$.\n"
   ]
  },
  {
   "cell_type": "code",
   "execution_count": 5,
   "id": "223f5da5",
   "metadata": {},
   "outputs": [],
   "source": [
    "K = 7\n",
    "tau = 0.05\n",
    "\n",
    "\n",
    "def beta_coeff(tau: float, alpha: float, K: int):\n",
    "    beta_k = np.zeros(2 ** int(np.ceil(np.log2(K + 1))))\n",
    "    beta_k[0] = 1.0\n",
    "    for k in range(1, K + 1):\n",
    "        beta_k[k] = ((tau * alpha) ** k) / sp.factorial(k)\n",
    "    return beta_k\n",
    "\n",
    "\n",
    "betas = beta_coeff(tau=tau, alpha=H_norm, K=K)\n",
    "betas_rescaled = np.sqrt(betas / np.sum(np.abs(betas)))\n",
    "\n",
    "exp_prep_box = StatePreparationBox(betas_rescaled)\n",
    "circ = exp_prep_box.get_circuit()\n",
    "DecomposeBoxes().apply(circ)\n",
    "rebase = AutoRebase({OpType.CX, OpType.Rz, OpType.H, OpType.CCX})\n",
    "rebase.apply(circ)\n",
    "exp_prep = guppy.load_pytket(\"exp_prepare\", circ, use_arrays=True)\n",
    "exp_unprep = guppy.load_pytket(\"exp_unprepare\", circ.dagger(), use_arrays=True)"
   ]
  },
  {
   "cell_type": "markdown",
   "id": "71041ef2",
   "metadata": {},
   "source": [
    "Putting all together, we implement the LCU with mid-circuit measurements for the time evolution operator.\n",
    "We run $10000$ shots for now."
   ]
  },
  {
   "cell_type": "code",
   "execution_count": 6,
   "id": "11eca058",
   "metadata": {},
   "outputs": [],
   "source": [
    "n_shots = 10000\n",
    "\n",
    "kappa = int(np.log2(K) + 1)\n",
    "\n",
    "\n",
    "@guppy\n",
    "def main() -> None:\n",
    "    \"\"\"Main function to run the multiplexor LCU circuit.\"\"\"\n",
    "    exp_prep_qubits = array(qubit() for _ in range(comptime(kappa)))\n",
    "\n",
    "    state_qubits = array(qubit() for _ in range(comptime(n_state)))\n",
    "\n",
    "    exp_prep(exp_prep_qubits)\n",
    "    for kk_index in range(comptime(kappa)):\n",
    "        for _ in range(2**kk_index):\n",
    "            prep_qubits = array(qubit() for _ in range(comptime(n_prep)))\n",
    "            ctrl_lcu(\n",
    "                exp_prep_qubits[comptime(kappa) - kk_index - 1],\n",
    "                prep_qubits,\n",
    "                state_qubits,\n",
    "            )\n",
    "            outcome = measure_array(prep_qubits)\n",
    "            for b in outcome:\n",
    "                if b:\n",
    "                    exit(\"circuit failed\", 1)\n",
    "    exp_unprep(exp_prep_qubits)\n",
    "    outcome = measure_array(exp_prep_qubits)\n",
    "    for b in outcome:\n",
    "        if b:\n",
    "            exit(\"circuit failed\", 1)\n",
    "\n",
    "    result(\"c\", measure_array(state_qubits))\n",
    "\n",
    "\n",
    "compiled_hugr = main.compile()\n",
    "metric_store = MetricStore()\n",
    "\n",
    "runner = build(compiled_hugr)\n",
    "shots = QsysResult(\n",
    "    runner.run_shots(\n",
    "        Quest(random_seed=17), event_hook=metric_store, n_qubits=kappa+n_prep+n_state , n_shots=n_shots, verbose=False\n",
    "    )\n",
    ")"
   ]
  },
  {
   "cell_type": "markdown",
   "id": "f87e1af6",
   "metadata": {},
   "source": [
    "Final state and success probability"
   ]
  },
  {
   "cell_type": "code",
   "execution_count": 7,
   "id": "03aedb1a",
   "metadata": {},
   "outputs": [
    {
     "name": "stdout",
     "output_type": "stream",
     "text": [
      "Final state: Counter({'0000': 6068, '1000': 5, '0001': 5, '0010': 4, '0100': 2})\n",
      "Success probability: 0.6084\n"
     ]
    }
   ],
   "source": [
    "shots_counts = shots.register_counts()[\"c\"]\n",
    "success_prob = sum(shots_counts.values()) / n_shots\n",
    "\n",
    "print(f'Final state: {shots_counts}')\n",
    "print(f'Success probability: {success_prob}')"
   ]
  },
  {
   "cell_type": "markdown",
   "id": "81466957",
   "metadata": {},
   "source": [
    "Circuit resources used"
   ]
  },
  {
   "cell_type": "code",
   "execution_count": 8,
   "id": "3e176444",
   "metadata": {},
   "outputs": [
    {
     "name": "stdout",
     "output_type": "stream",
     "text": [
      "Average metrics (over shots):\n",
      "Metric\n",
      "custom_op_batch_count            0.0000\n",
      "custom_op_individual_count       0.0000\n",
      "measure_batch_count             23.6472\n",
      "measure_individual_count        23.6472\n",
      "reset_batch_count               25.6231\n",
      "reset_individual_count          25.6231\n",
      "rxy_batch_count               2829.5006\n",
      "rxy_individual_count          2829.5006\n",
      "rz_batch_count                4495.0515\n",
      "rz_individual_count           4495.0515\n",
      "rzz_batch_count                942.3360\n",
      "rzz_individual_count           942.3360\n",
      "total_duration_ns                0.0000\n",
      "dtype: float64\n"
     ]
    }
   ],
   "source": [
    "metrics = metric_store.shots\n",
    "data_by_category = defaultdict(lambda: defaultdict(list))\n",
    "\n",
    "for shot in metrics:\n",
    "    for category, metric_dict in shot.items():\n",
    "        for metric, value in metric_dict.items():\n",
    "            data_by_category[category][metric].append(value)\n",
    "\n",
    "headers = [\"Metric\"] + [f\"Shot {i}\" for i in range(len(metrics))]\n",
    "\n",
    "df_user_program = pd.DataFrame(\n",
    "    [[k] + v[:] for k, v in data_by_category[\"user_program\"].items()],\n",
    "    columns=headers,\n",
    ")\n",
    "df_user_program = df_user_program.set_index(\"Metric\").transpose()\n",
    "\n",
    "df_post_runtime = pd.DataFrame(\n",
    "    [[k] + v[:] for k, v in data_by_category[\"post_runtime\"].items()],\n",
    "    columns=headers,\n",
    ")\n",
    "df_post_runtime = df_post_runtime.set_index(\"Metric\").transpose()\n",
    "\n",
    "\n",
    "print(f'Average metrics (over shots):\\n{df_post_runtime.mean()}')"
   ]
  },
  {
   "cell_type": "markdown",
   "id": "d9753d91",
   "metadata": {},
   "source": [
    "Classical results"
   ]
  },
  {
   "cell_type": "code",
   "execution_count": 9,
   "id": "ac4159e5",
   "metadata": {},
   "outputs": [
    {
     "name": "stdout",
     "output_type": "stream",
     "text": [
      "Success probability (analytical), K=1: (0.6559999999999999+0j)\n",
      "Success probability (analytical), K=2: (0.6092673408685306+0j)\n",
      "Success probability (analytical), K=3: (0.6066575788750417+0j)\n",
      "Success probability (analytical), K=4: (0.6065385140258427+0j)\n",
      "Success probability (analytical), K=5: (0.6065310248629526+0j)\n",
      "Success probability (analytical), K=6: (0.6065306716397784+0j)\n",
      "Success probability (analytical), K=7: (0.6065306600635357+0j)\n"
     ]
    }
   ],
   "source": [
    "H_mat = H.to_sparse_matrix().toarray()\n",
    "state = np.zeros(2**n_state)\n",
    "state[0] = 1.0\n",
    "\n",
    "p_analytical = []\n",
    "\n",
    "for K in range(1, 8):\n",
    "    betas = beta_coeff(tau=0.05, alpha=H_norm, K=K)\n",
    "    exp_ihht = betas[0] * np.identity(2**n_state)\n",
    "    for k in range(1, K + 1):\n",
    "        Hk = H_mat / H_norm\n",
    "        for kk in range(k - 1):\n",
    "            Hk = Hk @ H_mat / H_norm\n",
    "        exp_ihht = exp_ihht + (-1j) ** k * betas[k] * Hk\n",
    "    \n",
    "    statef = exp_ihht @ state\n",
    "\n",
    "    p_analytical.append(statef.conj().T @ statef / ((sum(betas)) ** 2))\n",
    "    print(f'Success probability (analytical), K={K}: {statef.conj().T @ statef / ((sum(betas)) ** 2)}')"
   ]
  },
  {
   "cell_type": "code",
   "execution_count": null,
   "id": "a8f563d3",
   "metadata": {},
   "outputs": [],
   "source": []
  },
  {
   "cell_type": "code",
   "execution_count": null,
   "id": "47c33eed",
   "metadata": {},
   "outputs": [],
   "source": []
  }
 ],
 "metadata": {
  "kernelspec": {
   "display_name": ".venv (3.13.4)",
   "language": "python",
   "name": "python3"
  },
  "language_info": {
   "codemirror_mode": {
    "name": "ipython",
    "version": 3
   },
   "file_extension": ".py",
   "mimetype": "text/x-python",
   "name": "python",
   "nbconvert_exporter": "python",
   "pygments_lexer": "ipython3",
   "version": "3.13.4"
  }
 },
 "nbformat": 4,
 "nbformat_minor": 5
}
