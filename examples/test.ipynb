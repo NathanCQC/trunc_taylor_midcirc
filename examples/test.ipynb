{
 "cells": [
  {
   "cell_type": "code",
   "execution_count": 1,
   "id": "20f4f02e",
   "metadata": {},
   "outputs": [
    {
     "data": {
      "text/plain": [
       "trunctaylor.qtmlib.circuits.lcu.lcu_multiplexor.LCUMultiplexorBox"
      ]
     },
     "execution_count": 1,
     "metadata": {},
     "output_type": "execute_result"
    }
   ],
   "source": [
    "from trunctaylor.qtmlib.circuits.lcu import LCUMultiplexorBox\n",
    "\n",
    "LCUMultiplexorBox"
   ]
  },
  {
   "cell_type": "code",
   "execution_count": null,
   "id": "cc0cdaf9",
   "metadata": {},
   "outputs": [],
   "source": []
  }
 ],
 "metadata": {
  "kernelspec": {
   "display_name": ".venv (3.13.4)",
   "language": "python",
   "name": "python3"
  },
  "language_info": {
   "codemirror_mode": {
    "name": "ipython",
    "version": 3
   },
   "file_extension": ".py",
   "mimetype": "text/x-python",
   "name": "python",
   "nbconvert_exporter": "python",
   "pygments_lexer": "ipython3",
   "version": "3.13.4"
  }
 },
 "nbformat": 4,
 "nbformat_minor": 5
}
