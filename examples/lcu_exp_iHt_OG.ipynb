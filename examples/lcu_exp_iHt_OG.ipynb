{
 "cells": [
  {
   "cell_type": "code",
   "execution_count": 1,
   "id": "92164275",
   "metadata": {},
   "outputs": [],
   "source": [
    "from guppylang.std.builtins import comptime\n",
    "from guppylang.std.quantum import qubit, measure_array\n",
    "from hugr.qsystem.result import QsysResult\n",
    "from guppylang.std.builtins import result, array, exit\n",
    "from guppylang import guppy\n",
    "from selene_sim import build, Quest, MetricStore\n",
    "\n",
    "from trunctaylor.qtmlib.circuits.lcu import LCUMultiplexorBox\n",
    "from pytket.passes import AutoRebase\n",
    "from pytket import OpType\n",
    "from pytket.passes import DecomposeBoxes\n",
    "from pytket.circuit import StatePreparationBox\n",
    "from pytket.circuit import Circuit, CircBox\n",
    "\n",
    "from collections import defaultdict\n",
    "\n",
    "import pandas as pd\n",
    "import numpy as np\n",
    "import scipy.special as sp\n",
    "\n",
    "from trunctaylor.operators import ising_model"
   ]
  },
  {
   "cell_type": "markdown",
   "id": "ff0ab0ac",
   "metadata": {},
   "source": [
    "### 1D Ising model Hamiltonian"
   ]
  },
  {
   "cell_type": "code",
   "execution_count": 2,
   "id": "050c7730",
   "metadata": {},
   "outputs": [],
   "source": [
    "n_state = 4\n",
    "H = ising_model(n_qubits=n_state, j=1.0, h=0.5)"
   ]
  },
  {
   "cell_type": "markdown",
   "id": "cfa1e4fc",
   "metadata": {},
   "source": [
    "We construct the LCU for\n",
    "$H_k= (-i)^k \\sum_{\\ell}^{L}\\alpha_\\ell H_\\ell$\n",
    "using multiplexor gate synthesis. We then construct a controlled-$H_k$ for the Select oracle of the time evolution operator."
   ]
  },
  {
   "cell_type": "code",
   "execution_count": 3,
   "id": "ce604bc1",
   "metadata": {},
   "outputs": [],
   "source": [
    "H_lcu = LCUMultiplexorBox(H, n_state)\n",
    "H_norm = H_lcu.l1_norm\n",
    "\n",
    "n_prep = H_lcu.n_prepare_qubits\n",
    "\n",
    "H_lcu0 = LCUMultiplexorBox((1 / H_norm) * H, n_state) #(-i)^k = 1\n",
    "H_lcu1 = LCUMultiplexorBox((-1j / H_norm) * H, n_state) #(-i)^k = -i\n",
    "H_lcu2 = LCUMultiplexorBox((-1 / H_norm) * H, n_state) #(-i)^k = -1\n",
    "H_lcu3 = LCUMultiplexorBox((1j / H_norm) * H, n_state) #(-i)^k = i\n",
    "\n",
    "controlled_lcu0 = H_lcu0.qcontrol(1)\n",
    "circ = controlled_lcu0.get_circuit()\n",
    "DecomposeBoxes().apply(circ)\n",
    "rebase = AutoRebase({OpType.CX, OpType.Rz, OpType.H, OpType.CCX})\n",
    "rebase.apply(circ)\n",
    "qlibs_controlled_lcu0 = guppy.load_pytket(\n",
    "    \"qlibs_controlled_lcu0\", circ, use_arrays=True\n",
    ")\n",
    "\n",
    "controlled_lcu1 = H_lcu1.qcontrol(1)\n",
    "circ = controlled_lcu1.get_circuit()\n",
    "DecomposeBoxes().apply(circ)\n",
    "rebase = AutoRebase({OpType.CX, OpType.Rz, OpType.H, OpType.CCX})\n",
    "rebase.apply(circ)\n",
    "qlibs_controlled_lcu1 = guppy.load_pytket(\n",
    "    \"qlibs_controlled_lcu1\", circ, use_arrays=True\n",
    ")\n",
    "\n",
    "controlled_lcu2 = H_lcu2.qcontrol(1)\n",
    "circ = controlled_lcu2.get_circuit()\n",
    "DecomposeBoxes().apply(circ)\n",
    "rebase = AutoRebase({OpType.CX, OpType.Rz, OpType.H, OpType.CCX})\n",
    "rebase.apply(circ)\n",
    "qlibs_controlled_lcu2 = guppy.load_pytket(\n",
    "    \"qlibs_controlled_lcu2\", circ, use_arrays=True\n",
    ")\n",
    "\n",
    "controlled_lcu3 = H_lcu3.qcontrol(1)\n",
    "circ = controlled_lcu3.get_circuit()\n",
    "DecomposeBoxes().apply(circ)\n",
    "rebase = AutoRebase({OpType.CX, OpType.Rz, OpType.H, OpType.CCX})\n",
    "rebase.apply(circ)\n",
    "qlibs_controlled_lcu3 = guppy.load_pytket(\n",
    "    \"qlibs_controlled_lcu3\", circ, use_arrays=True\n",
    ")\n",
    "\n",
    "@guppy.comptime\n",
    "def ctrl_lcu0(\n",
    "    control: qubit,\n",
    "    prep: array[qubit, comptime(n_prep)],\n",
    "    state: array[qubit, comptime(n_state)],\n",
    ") -> None:\n",
    "    return qlibs_controlled_lcu0([control], prep, state)\n",
    "\n",
    "@guppy.comptime\n",
    "def ctrl_lcu1(\n",
    "    control: qubit,\n",
    "    prep: array[qubit, comptime(n_prep)],\n",
    "    state: array[qubit, comptime(n_state)],\n",
    ") -> None:\n",
    "    return qlibs_controlled_lcu1([control], prep, state)\n",
    "\n",
    "@guppy.comptime\n",
    "def ctrl_lcu2(\n",
    "    control: qubit,\n",
    "    prep: array[qubit, comptime(n_prep)],\n",
    "    state: array[qubit, comptime(n_state)],\n",
    ") -> None:\n",
    "    return qlibs_controlled_lcu2([control], prep, state)\n",
    "\n",
    "@guppy.comptime\n",
    "def ctrl_lcu3(\n",
    "    control: qubit,\n",
    "    prep: array[qubit, comptime(n_prep)],\n",
    "    state: array[qubit, comptime(n_state)],\n",
    ") -> None:\n",
    "    return qlibs_controlled_lcu3([control], prep, state)\n"
   ]
  },
  {
   "cell_type": "markdown",
   "id": "d14765df",
   "metadata": {},
   "source": [
    "Prepare the  Taylor expansion coefficients \n",
    "$\\widetilde{\\beta}_k = \\frac{(\\tau \\left\\|\\alpha\\right\\|_{1})^k}{k!}$ for $\\sqrt{\\frac{\\widetilde{\\beta}_k}{\\left\\|\\widetilde{\\beta}\\right\\|_1}}$.\n",
    "\n",
    "We set $K=3$, $\\tau=0.05$."
   ]
  },
  {
   "cell_type": "code",
   "execution_count": 4,
   "id": "fba9d17b",
   "metadata": {},
   "outputs": [],
   "source": [
    "K= 3\n",
    "tau = 0.05\n",
    "def beta_coeff(tau: float, alpha: float, K: int):\n",
    "    beta_k = np.zeros(K + 1)\n",
    "    beta_k[0] = 1.0\n",
    "    for k in range(1, K + 1):\n",
    "        beta_k[k] = ((tau * alpha) ** k) / sp.factorial(k)\n",
    "    return beta_k\n",
    "\n",
    "\n",
    "def PrepareUnaryBox(beta_sqrt):\n",
    "    theta = np.zeros(len(beta_sqrt) - 1)\n",
    "    theta[0] = np.arccos(beta_sqrt[0]) * 2 / np.pi\n",
    "\n",
    "    for i in range(1, len(beta_sqrt) - 1):\n",
    "        theta[i] = (\n",
    "            np.arccos(beta_sqrt[i] / np.sqrt(1 - np.sum(beta_sqrt[:i] ** 2)))\n",
    "            * 2\n",
    "            / np.pi\n",
    "        )\n",
    "\n",
    "    circ = Circuit(len(beta_sqrt) - 1, name=\"PrepUnary\")\n",
    "    circ.Ry(theta[0], 0)\n",
    "    for i in range(1, len(beta_sqrt) - 1):\n",
    "        circ.CRy(theta[i], i - 1, i)\n",
    "\n",
    "    DecomposeBoxes().apply(circ)\n",
    "    rebase = AutoRebase({OpType.CX, OpType.Rz, OpType.H, OpType.CCX})\n",
    "    rebase.apply(circ)\n",
    "    prep_unary_box = CircBox(circ)\n",
    "\n",
    "    return prep_unary_box\n",
    "\n",
    "betas = beta_coeff(tau=tau, alpha=H_norm, K=K)\n",
    "betas_rescaled = np.sqrt(betas / np.sum(np.abs(betas)))\n",
    "\n",
    "exp_prep_box = PrepareUnaryBox(betas_rescaled)\n",
    "circ = exp_prep_box.get_circuit()\n",
    "DecomposeBoxes().apply(circ)\n",
    "rebase = AutoRebase({OpType.CX, OpType.Rz, OpType.H, OpType.CCX})\n",
    "rebase.apply(circ)\n",
    "exp_prep = guppy.load_pytket(\"exp_prepare\", circ, use_arrays=True)\n",
    "exp_unprep = guppy.load_pytket(\"exp_unprepare\", circ.dagger(), use_arrays=True)"
   ]
  },
  {
   "cell_type": "markdown",
   "id": "22f07282",
   "metadata": {},
   "source": [
    "Putting all together, we implement the LCU with deferred measurements for the time evolution operator.\n",
    "We run $1000$ shots for now."
   ]
  },
  {
   "cell_type": "code",
   "execution_count": 5,
   "id": "b5fcf6c5",
   "metadata": {},
   "outputs": [],
   "source": [
    "n_shots = 1000\n",
    "\n",
    "@guppy\n",
    "def allocate() -> array[array[qubit, comptime(n_prep)], comptime(K)]:\n",
    "    prep_qubits = array(\n",
    "        array(qubit() for _ in range(comptime(n_prep))) for _ in range(comptime(K))\n",
    "    )\n",
    "    return prep_qubits\n",
    "\n",
    "@guppy\n",
    "def main() -> None:\n",
    "    \"\"\"Main function to run the multiplexor LCU circuit.\"\"\"\n",
    "    exp_prep_qubits = array(qubit() for _ in range(comptime(K)))\n",
    "    prep_array = allocate()\n",
    "\n",
    "    state_qubits = array(qubit() for _ in range(comptime(n_state)))\n",
    "    # The pytket function only acts on arrays\n",
    "    exp_prep(exp_prep_qubits)\n",
    "\n",
    "    for kk_index in range(comptime(K)):\n",
    "        if kk_index + 1 % 4 == 1:\n",
    "            ctrl_lcu1(exp_prep_qubits[kk_index], prep_array[kk_index], state_qubits)\n",
    "        elif kk_index + 1 % 4 == 2:\n",
    "            ctrl_lcu2(exp_prep_qubits[kk_index], prep_array[kk_index], state_qubits)\n",
    "        elif kk_index + 1 % 4 == 3:\n",
    "            ctrl_lcu3(exp_prep_qubits[kk_index], prep_array[kk_index], state_qubits)\n",
    "        else:\n",
    "            ctrl_lcu0(exp_prep_qubits[kk_index], prep_array[kk_index], state_qubits)\n",
    "\n",
    "    exp_unprep(exp_prep_qubits)\n",
    "\n",
    "    outcome = array(measure_array(ar) for ar in prep_array)\n",
    "    for measured in outcome:\n",
    "        for b in measured:\n",
    "            if b:\n",
    "                exit(\"circuit failed\", 1)\n",
    "    outcome = measure_array(exp_prep_qubits)\n",
    "    for b in outcome:\n",
    "        if b:\n",
    "            exit(\"circuit failed\", 1)\n",
    "\n",
    "    result(\"c\", measure_array(state_qubits))\n",
    "\n",
    "compiled_hugr = main.compile()\n",
    "metric_store = MetricStore()\n",
    "\n",
    "runner = build(compiled_hugr)\n",
    "shots = QsysResult(\n",
    "        runner.run_shots(\n",
    "            Quest(random_seed=17),\n",
    "            event_hook=metric_store,\n",
    "            n_qubits=K + (K * n_prep) + n_state,\n",
    "            n_shots=n_shots,\n",
    "            verbose=False,\n",
    "        )\n",
    "    )"
   ]
  },
  {
   "cell_type": "markdown",
   "id": "8d7d0218",
   "metadata": {},
   "source": [
    "Final state and success probability"
   ]
  },
  {
   "cell_type": "code",
   "execution_count": 6,
   "id": "86dba9af",
   "metadata": {},
   "outputs": [
    {
     "name": "stdout",
     "output_type": "stream",
     "text": [
      "Final state: Counter({'0000': 625, '0100': 1, '0001': 1})\n",
      "Success probability: 0.627\n"
     ]
    }
   ],
   "source": [
    "shots_counts = shots.register_counts()[\"c\"]\n",
    "success_prob = sum(shots_counts.values()) / n_shots\n",
    "\n",
    "print(f'Final state: {shots_counts}')\n",
    "print(f'Success probability: {success_prob}')"
   ]
  },
  {
   "cell_type": "markdown",
   "id": "53cebb88",
   "metadata": {},
   "source": [
    "Circuit resources used"
   ]
  },
  {
   "cell_type": "code",
   "execution_count": 7,
   "id": "f5794b2c",
   "metadata": {},
   "outputs": [
    {
     "name": "stdout",
     "output_type": "stream",
     "text": [
      "Average metrics (over shots):\n",
      "Metric\n",
      "custom_op_batch_count            0.000\n",
      "custom_op_individual_count       0.000\n",
      "measure_batch_count             14.112\n",
      "measure_individual_count        14.112\n",
      "reset_batch_count               16.000\n",
      "reset_individual_count          16.000\n",
      "rxy_batch_count               1384.000\n",
      "rxy_individual_count          1384.000\n",
      "rz_batch_count                2199.000\n",
      "rz_individual_count           2199.000\n",
      "rzz_batch_count                458.000\n",
      "rzz_individual_count           458.000\n",
      "total_duration_ns                0.000\n",
      "dtype: float64\n"
     ]
    }
   ],
   "source": [
    "metrics = metric_store.shots\n",
    "data_by_category = defaultdict(lambda: defaultdict(list))\n",
    "\n",
    "for shot in metrics:\n",
    "    for category, metric_dict in shot.items():\n",
    "        for metric, value in metric_dict.items():\n",
    "            data_by_category[category][metric].append(value)\n",
    "\n",
    "headers = [\"Metric\"] + [f\"Shot {i}\" for i in range(len(metrics))]\n",
    "\n",
    "df_user_program = pd.DataFrame(\n",
    "    [[k] + v[:] for k, v in data_by_category[\"user_program\"].items()],\n",
    "    columns=headers,\n",
    ")\n",
    "df_user_program = df_user_program.set_index(\"Metric\").transpose()\n",
    "\n",
    "df_post_runtime = pd.DataFrame(\n",
    "    [[k] + v[:] for k, v in data_by_category[\"post_runtime\"].items()],\n",
    "    columns=headers,\n",
    ")\n",
    "df_post_runtime = df_post_runtime.set_index(\"Metric\").transpose()\n",
    "\n",
    "\n",
    "print(f'Average metrics (over shots):\\n{df_post_runtime.mean()}')"
   ]
  },
  {
   "cell_type": "markdown",
   "id": "f1a485ef",
   "metadata": {},
   "source": [
    "Classical results"
   ]
  },
  {
   "cell_type": "code",
   "execution_count": 8,
   "id": "9f1fa908",
   "metadata": {},
   "outputs": [
    {
     "name": "stdout",
     "output_type": "stream",
     "text": [
      "Success probability (analytical), K=1: (0.6559999999999999+0j)\n",
      "Success probability (analytical), K=2: (0.6092673408685306+0j)\n",
      "Success probability (analytical), K=3: (0.6066575788750417+0j)\n",
      "Success probability (analytical), K=4: (0.6065385140258427+0j)\n",
      "Success probability (analytical), K=5: (0.6065310248629526+0j)\n",
      "Success probability (analytical), K=6: (0.6065306716397784+0j)\n",
      "Success probability (analytical), K=7: (0.6065306600635357+0j)\n"
     ]
    }
   ],
   "source": [
    "H_mat = H.to_sparse_matrix().toarray()\n",
    "state = np.zeros(2**n_state)\n",
    "state[0] = 1.0\n",
    "\n",
    "p_analytical = []\n",
    "\n",
    "for K in range(1, 8):\n",
    "    betas = beta_coeff(tau=0.05, alpha=H_norm, K=K)\n",
    "    exp_ihht = betas[0] * np.identity(2**n_state)\n",
    "    for k in range(1, K + 1):\n",
    "        Hk = H_mat / H_norm\n",
    "        for kk in range(k - 1):\n",
    "            Hk = Hk @ H_mat / H_norm\n",
    "        exp_ihht = exp_ihht + (-1j) ** k * betas[k] * Hk\n",
    "    \n",
    "    statef = exp_ihht @ state\n",
    "\n",
    "    p_analytical.append(statef.conj().T @ statef / ((sum(betas)) ** 2))\n",
    "    print(f'Success probability (analytical), K={K}: {statef.conj().T @ statef / ((sum(betas)) ** 2)}')"
   ]
  },
  {
   "cell_type": "code",
   "execution_count": null,
   "id": "4b1e0d2f",
   "metadata": {},
   "outputs": [],
   "source": []
  }
 ],
 "metadata": {
  "kernelspec": {
   "display_name": ".venv (3.13.4)",
   "language": "python",
   "name": "python3"
  },
  "language_info": {
   "codemirror_mode": {
    "name": "ipython",
    "version": 3
   },
   "file_extension": ".py",
   "mimetype": "text/x-python",
   "name": "python",
   "nbconvert_exporter": "python",
   "pygments_lexer": "ipython3",
   "version": "3.13.4"
  }
 },
 "nbformat": 4,
 "nbformat_minor": 5
}
